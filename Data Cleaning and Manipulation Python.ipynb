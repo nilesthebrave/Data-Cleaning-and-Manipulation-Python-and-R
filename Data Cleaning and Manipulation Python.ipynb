{
 "cells": [
  {
   "cell_type": "markdown",
   "metadata": {},
   "source": [
    "<img src=\"https://datasciencedegree.wisconsin.edu/wp-content/themes/data-gulp/images/logo.svg\" width=\"300\">\n"
   ]
  },
  {
   "cell_type": "markdown",
   "metadata": {},
   "source": [
    "# Assignment 9"
   ]
  },
  {
   "cell_type": "markdown",
   "metadata": {},
   "source": [
    "## Problem 1(a).  College data.\n",
    "\n",
    "The data set `usnews.csv` in the folder with this notebook contains data from the 1995 US News and World Report on colleges and universities in the US.\n",
    "* (Dataset:  “US News College data,” submitted by Robin Lock, St. Lawrence University.   Dataset obtained from the Journal of Statistics Education (http://www.amstat.org/publications/jse). Accessed 23 June 2015. Used by permission of author.)\n",
    "* Metadata:  http://www.amstat.org/publications/jse/datasets/usnews.txt\n",
    "\n",
    "\n",
    "The data set contains asterisks which indicate missing data.  \n",
    "\n",
    "🎯 Use pandas to create a data frame which replaces the asterisks by ```numpy.nan```. Also look out for extra spaces.  "
   ]
  },
  {
   "cell_type": "code",
   "execution_count": 1,
   "metadata": {},
   "outputs": [],
   "source": [
    "import numpy as np\n",
    "from pandas import Series, DataFrame\n",
    "import pandas as pd"
   ]
  },
  {
   "cell_type": "code",
   "execution_count": 2,
   "metadata": {},
   "outputs": [],
   "source": [
    "usnews = pd.read_csv('usnews.csv')\n",
    "usframe = DataFrame(usnews)\n",
    "usframe = usframe.replace('*', np.nan)\n",
    "usframe.columns = usframe.columns.str.lstrip()"
   ]
  },
  {
   "cell_type": "markdown",
   "metadata": {
    "collapsed": true
   },
   "source": [
    "## Problem 1(b).  Categorizing universities.\n",
    "\n",
    "🎯 Create a new column in your data frame which describes whether a university is public or private, using the words \"Public\" and \"Private\" instead of numbers.  (It may be helpful to consult the metadata file.)\n"
   ]
  },
  {
   "cell_type": "code",
   "execution_count": 3,
   "metadata": {},
   "outputs": [],
   "source": [
    "usframe[\"Pub_or_Priv\"] = usframe[\"Public/private\"].map(lambda x: \"Public\" if x == 1 else \"Private\" )"
   ]
  },
  {
   "cell_type": "markdown",
   "metadata": {},
   "source": [
    "## Problem 1(c).  \n",
    "\n",
    "The interquartile range is the 3rd quartile minus the 1st quartile. \n",
    "\n",
    "🎯 Create columns recording the interquartile range for math and verbal SAT scores."
   ]
  },
  {
   "cell_type": "code",
   "execution_count": 4,
   "metadata": {},
   "outputs": [],
   "source": [
    "usframe[\"IQR:Math\"] = usframe[\"Third quartile - Math SAT\"].astype(float) - usframe[\"First quartile - Math SAT\"].astype(float)\n",
    "usframe[\"IQR:Verbal\"] = usframe[\"Third quartile - Verbal SAT\"].astype(float) - usframe[\"First quartile - Verbal SAT\"].astype(float)"
   ]
  },
  {
   "cell_type": "markdown",
   "metadata": {},
   "source": [
    "## Problem 1(d).  Saving for R.\n",
    "\n",
    "🎯 Save your data frame as a `.csv` file for further analysis in R.  \n",
    "\n",
    "* You must replace the ```nan```s with an empty string before saving.  \n",
    "* Your output should not include a column of row numbers.  Omit the indices."
   ]
  },
  {
   "cell_type": "code",
   "execution_count": 5,
   "metadata": {},
   "outputs": [],
   "source": [
    "usframe = usframe.fillna('')\n",
    "usframe.to_csv(\"usframe.csv\", index = False)"
   ]
  }
 ],
 "metadata": {
  "kernelspec": {
   "display_name": "Python 3",
   "language": "python",
   "name": "python3"
  },
  "language_info": {
   "codemirror_mode": {
    "name": "ipython",
    "version": 3
   },
   "file_extension": ".py",
   "mimetype": "text/x-python",
   "name": "python",
   "nbconvert_exporter": "python",
   "pygments_lexer": "ipython3",
   "version": "3.6.5"
  }
 },
 "nbformat": 4,
 "nbformat_minor": 1
}
